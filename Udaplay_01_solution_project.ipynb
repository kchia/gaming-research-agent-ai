{
 "cells": [
  {
   "cell_type": "markdown",
   "id": "6fdd0bcb",
   "metadata": {},
   "source": [
    "# [STARTER] Udaplay Project"
   ]
  },
  {
   "cell_type": "markdown",
   "id": "9325b035",
   "metadata": {},
   "source": [
    "## Part 01 - Offline RAG\n",
    "\n",
    "In this part of the project, you'll build your VectorDB using Chroma.\n",
    "\n",
    "The data is inside folder `project/starter/games`. Each file will become a document in the collection you'll create.\n",
    "Example.:\n",
    "```json\n",
    "{\n",
    "  \"Name\": \"Gran Turismo\",\n",
    "  \"Platform\": \"PlayStation 1\",\n",
    "  \"Genre\": \"Racing\",\n",
    "  \"Publisher\": \"Sony Computer Entertainment\",\n",
    "  \"Description\": \"A realistic racing simulator featuring a wide array of cars and tracks, setting a new standard for the genre.\",\n",
    "  \"YearOfRelease\": 1997\n",
    "}\n",
    "```\n"
   ]
  },
  {
   "cell_type": "markdown",
   "id": "2b42de90",
   "metadata": {},
   "source": [
    "### Setup"
   ]
  },
  {
   "cell_type": "code",
   "execution_count": 1,
   "id": "61283b25",
   "metadata": {},
   "outputs": [],
   "source": [
    "# Only needed for Udacity workspace\n",
    "\n",
    "import importlib.util\n",
    "import sys\n",
    "\n",
    "# Check if 'pysqlite3' is available before importing\n",
    "if importlib.util.find_spec(\"pysqlite3\") is not None:\n",
    "    import pysqlite3\n",
    "    sys.modules['sqlite3'] = sys.modules.pop('pysqlite3')"
   ]
  },
  {
   "cell_type": "code",
   "execution_count": 2,
   "id": "a8d56169",
   "metadata": {},
   "outputs": [],
   "source": [
    "import os\n",
    "import json\n",
    "import chromadb\n",
    "from chromadb.utils import embedding_functions\n",
    "from dotenv import load_dotenv"
   ]
  },
  {
   "cell_type": "code",
   "execution_count": 3,
   "id": "87e465d4",
   "metadata": {},
   "outputs": [
    {
     "name": "stdout",
     "output_type": "stream",
     "text": [
      "✓ Environment variables loaded\n",
      "✓ OPENAI_API_KEY: Found\n",
      "✓ TAVILY_API_KEY: Found\n"
     ]
    }
   ],
   "source": [
    "# TODO: Load environment variables\n",
    "import os\n",
    "from dotenv import load_dotenv\n",
    "\n",
    "# Load the .env file\n",
    "load_dotenv()\n",
    "\n",
    "# Verify that key environment variables are loaded\n",
    "print(\"✓ Environment variables loaded\")\n",
    "print(f\"✓ OPENAI_API_KEY: {'Found' if os.getenv('OPENAI_API_KEY') else 'NOT FOUND'}\")\n",
    "print(f\"✓ TAVILY_API_KEY: {'Found' if os.getenv('TAVILY_API_KEY') else 'NOT FOUND'}\")"
   ]
  },
  {
   "cell_type": "markdown",
   "id": "27de4729",
   "metadata": {},
   "source": [
    "### VectorDB Instance"
   ]
  },
  {
   "cell_type": "code",
   "execution_count": 4,
   "id": "b25c36dd",
   "metadata": {},
   "outputs": [
    {
     "name": "stdout",
     "output_type": "stream",
     "text": [
      "✓ ChromaDB Persistent Client created successfully\n",
      "✓ Database will be stored in: ./chromadb\n"
     ]
    }
   ],
   "source": [
    "# TODO: Instantiate your ChromaDB Client\n",
    "# Choose any path you want\n",
    "# chroma_client = chromadb.PersistentClient(path=\"chromadb\")\n",
    "# TODO: Instantiate your ChromaDB Client\n",
    "# Choose any path you want\n",
    "\n",
    "import chromadb\n",
    "from chromadb.config import Settings\n",
    "\n",
    "# Create a persistent ChromaDB client\n",
    "# This will store the database on disk so it persists between sessions\n",
    "chroma_client = chromadb.PersistentClient(\n",
    "    path=\"./chromadb\",  # Directory where the database will be stored\n",
    "    settings=Settings(\n",
    "        anonymized_telemetry=False,  # Disable telemetry for privacy\n",
    "        allow_reset=True  # Allow resetting the database if needed\n",
    "    )\n",
    ")\n",
    "\n",
    "print(\"✓ ChromaDB Persistent Client created successfully\")\n",
    "print(f\"✓ Database will be stored in: ./chromadb\")"
   ]
  },
  {
   "cell_type": "markdown",
   "id": "df844b3b",
   "metadata": {},
   "source": [
    "### Collection"
   ]
  },
  {
   "cell_type": "code",
   "execution_count": 5,
   "id": "31c56281",
   "metadata": {},
   "outputs": [
    {
     "name": "stdout",
     "output_type": "stream",
     "text": [
      "✓ Using OpenAI embedding function\n",
      "✓ Model: text-embedding-3-small\n"
     ]
    }
   ],
   "source": [
    "# TODO: Pick one embedding function\n",
    "# If picking something different than openai, \n",
    "# make sure you use the same when loading it\n",
    "\n",
    "from chromadb.utils import embedding_functions\n",
    "\n",
    "# Option 1: OpenAI Embedding Function (RECOMMENDED)\n",
    "# Uses OpenAI's text-embedding-3-small model\n",
    "# Make sure your OPENAI_API_KEY is set in .env\n",
    "embedding_fn = embedding_functions.OpenAIEmbeddingFunction(\n",
    "    api_key=os.getenv(\"OPENAI_API_KEY\"),\n",
    "    model_name=\"text-embedding-3-small\"  # Fast and cost-effective\n",
    ")\n",
    "\n",
    "print(\"✓ Using OpenAI embedding function\")\n",
    "print(f\"✓ Model: text-embedding-3-small\")"
   ]
  },
  {
   "cell_type": "code",
   "execution_count": 6,
   "id": "0ec23893",
   "metadata": {},
   "outputs": [
    {
     "name": "stdout",
     "output_type": "stream",
     "text": [
      "✓ Deleted existing collection: 'udaplay_games'\n",
      "✓ Created collection: 'udaplay_games'\n",
      "✓ Embedding function: OpenAI text-embedding-3-small\n"
     ]
    }
   ],
   "source": [
    "# TODO: Create a collection\n",
    "# Choose any name you want\n",
    "\n",
    "collection_name = \"udaplay_games\"\n",
    "\n",
    "# Delete existing collection if it exists (for clean start)\n",
    "try:\n",
    "    chroma_client.delete_collection(name=collection_name)\n",
    "    print(f\"✓ Deleted existing collection: '{collection_name}'\")\n",
    "except:\n",
    "    print(f\"ℹ No existing collection to delete\")\n",
    "\n",
    "# Create new collection\n",
    "collection = chroma_client.create_collection(\n",
    "    name=collection_name,\n",
    "    embedding_function=embedding_fn,\n",
    "    metadata={\n",
    "        \"description\": \"Video game database for UdaPlay AI agent\",\n",
    "        \"hnsw:space\": \"cosine\"  # Use cosine similarity for search\n",
    "    }\n",
    ")\n",
    "\n",
    "print(f\"✓ Created collection: '{collection_name}'\")\n",
    "print(f\"✓ Embedding function: OpenAI text-embedding-3-small\")"
   ]
  },
  {
   "cell_type": "markdown",
   "id": "f0a55081",
   "metadata": {},
   "source": [
    "### Add documents"
   ]
  },
  {
   "cell_type": "code",
   "execution_count": 7,
   "id": "eb83fbb1",
   "metadata": {},
   "outputs": [],
   "source": [
    "# Make sure you have a directory \"project/starter/games\"\n",
    "data_dir = \"games\"\n",
    "\n",
    "for file_name in sorted(os.listdir(data_dir)):\n",
    "    if not file_name.endswith(\".json\"):\n",
    "        continue\n",
    "\n",
    "    file_path = os.path.join(data_dir, file_name)\n",
    "    with open(file_path, \"r\", encoding=\"utf-8\") as f:\n",
    "        game = json.load(f)\n",
    "\n",
    "    # You can change what text you want to index\n",
    "    content = f\"[{game['Platform']}] {game['Name']} ({game['YearOfRelease']}) - {game['Description']}\"\n",
    "\n",
    "    # Use file name (like 001) as ID\n",
    "    doc_id = os.path.splitext(file_name)[0]\n",
    "\n",
    "    collection.add(\n",
    "        ids=[doc_id],\n",
    "        documents=[content],\n",
    "        metadatas=[game]\n",
    "    )"
   ]
  },
  {
   "cell_type": "markdown",
   "id": "652e7d87-7fa4-4d33-b6ab-c7241b53cefe",
   "metadata": {},
   "source": [
    "### Test Semantic Search\n",
    "\n",
    "Demonstrate that the vector database can be queried for semantic search."
   ]
  },
  {
   "cell_type": "code",
   "execution_count": 8,
   "id": "edjf1eomo6g",
   "metadata": {},
   "outputs": [
    {
     "name": "stdout",
     "output_type": "stream",
     "text": [
      "Testing Semantic Search on Vector Database\n",
      "================================================================================\n",
      "\n",
      "Query: 'racing games from the 90s'\n",
      "--------------------------------------------------------------------------------\n",
      "\n",
      "1. Gran Turismo (1997)\n",
      "   Platform: PlayStation 1\n",
      "   Description: A realistic racing simulator featuring a wide array of cars and tracks, setting a new standard for t...\n",
      "\n",
      "2. Gran Turismo 5 (2010)\n",
      "   Platform: PlayStation 3\n",
      "   Description: A comprehensive racing simulator featuring a vast selection of vehicles and tracks, with realistic d...\n",
      "\n",
      "3. Pokémon Ruby and Sapphire (2002)\n",
      "   Platform: Game Boy Advance\n",
      "   Description: Third-generation Pokémon games set in the Hoenn region, featuring new Pokémon and double battles....\n",
      "\n",
      "================================================================================\n",
      "\n",
      "Query: 'RPG games with turn-based combat'\n",
      "--------------------------------------------------------------------------------\n",
      "\n",
      "1. Pokémon Ruby and Sapphire (2002)\n",
      "   Platform: Game Boy Advance\n",
      "   Description: Third-generation Pokémon games set in the Hoenn region, featuring new Pokémon and double battles....\n",
      "\n",
      "2. Gran Turismo (1997)\n",
      "   Platform: PlayStation 1\n",
      "   Description: A realistic racing simulator featuring a wide array of cars and tracks, setting a new standard for t...\n",
      "\n",
      "3. Pokémon Gold and Silver (1999)\n",
      "   Platform: Game Boy Color\n",
      "   Description: Second-generation Pokémon games introducing new regions, Pokémon, and gameplay mechanics....\n",
      "\n",
      "================================================================================\n",
      "\n",
      "Query: 'action games for PlayStation'\n",
      "--------------------------------------------------------------------------------\n",
      "\n",
      "1. Gran Turismo (1997)\n",
      "   Platform: PlayStation 1\n",
      "   Description: A realistic racing simulator featuring a wide array of cars and tracks, setting a new standard for t...\n",
      "\n",
      "2. Gran Turismo 5 (2010)\n",
      "   Platform: PlayStation 3\n",
      "   Description: A comprehensive racing simulator featuring a vast selection of vehicles and tracks, with realistic d...\n",
      "\n",
      "3. Grand Theft Auto: San Andreas (2004)\n",
      "   Platform: PlayStation 2\n",
      "   Description: An expansive open-world game set in the fictional state of San Andreas, following the story of Carl ...\n",
      "\n",
      "================================================================================\n",
      "\n",
      "✓ Semantic search demonstration complete!\n"
     ]
    }
   ],
   "source": [
    "# Test semantic search queries\n",
    "test_queries = [\n",
    "    \"racing games from the 90s\",\n",
    "    \"RPG games with turn-based combat\",\n",
    "    \"action games for PlayStation\"\n",
    "]\n",
    "\n",
    "print(\"Testing Semantic Search on Vector Database\")\n",
    "print(\"=\" * 80)\n",
    "\n",
    "for query in test_queries:\n",
    "    print(f\"\\nQuery: '{query}'\")\n",
    "    print(\"-\" * 80)\n",
    "    \n",
    "    results = collection.query(\n",
    "        query_texts=[query],\n",
    "        n_results=3\n",
    "    )\n",
    "    \n",
    "    if results['metadatas'] and results['metadatas'][0]:\n",
    "        for i, metadata in enumerate(results['metadatas'][0], 1):\n",
    "            print(f\"\\n{i}. {metadata['Name']} ({metadata['YearOfRelease']})\")\n",
    "            print(f\"   Platform: {metadata['Platform']}\")\n",
    "            print(f\"   Description: {metadata['Description'][:100]}...\")\n",
    "    \n",
    "    print(\"\\n\" + \"=\" * 80)\n",
    "\n",
    "print(\"\\n✓ Semantic search demonstration complete!\")"
   ]
  },
  {
   "cell_type": "code",
   "execution_count": null,
   "id": "5213afbd-6b93-4dcd-a7b3-d15096653c5b",
   "metadata": {},
   "outputs": [],
   "source": []
  }
 ],
 "metadata": {
  "kernelspec": {
   "display_name": "Gaming Research Agent",
   "language": "python",
   "name": "gaming-research-agent"
  },
  "language_info": {
   "codemirror_mode": {
    "name": "ipython",
    "version": 3
   },
   "file_extension": ".py",
   "mimetype": "text/x-python",
   "name": "python",
   "nbconvert_exporter": "python",
   "pygments_lexer": "ipython3",
   "version": "3.11.5"
  }
 },
 "nbformat": 4,
 "nbformat_minor": 5
}
